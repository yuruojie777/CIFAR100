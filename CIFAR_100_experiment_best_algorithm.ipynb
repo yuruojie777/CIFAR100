{
 "cells": [
  {
   "cell_type": "markdown",
   "id": "fbcaf24d",
   "metadata": {},
   "source": [
    "# BEST MODEL RESNET-18"
   ]
  },
  {
   "cell_type": "markdown",
   "id": "811a6749",
   "metadata": {},
   "source": [
    "# 1.Setup"
   ]
  },
  {
   "cell_type": "markdown",
   "id": "0ca2f43b",
   "metadata": {},
   "source": [
    "Import the required packages"
   ]
  },
  {
   "cell_type": "code",
   "execution_count": 1,
   "id": "7345c0f8",
   "metadata": {},
   "outputs": [],
   "source": [
    "import numpy as np\n",
    "from numpy import mean\n",
    "\n",
    "import torch.nn as nn\n",
    "import torch\n",
    "\n",
    "import os\n",
    "os.environ['KMP_DUPLICATE_LIB_OK'] = 'True'\n",
    "import torchvision\n",
    "from matplotlib import pyplot as plt\n",
    "import torchvision.transforms as transforms\n",
    "from torch.utils.data import DataLoader\n",
    "import math\n",
    "from tqdm import tqdm\n",
    "import matplotlib.pyplot as plt\n",
    "from sklearn.metrics import confusion_matrix\n",
    "from sklearn.metrics import classification_report\n",
    "import seaborn as sn"
   ]
  },
  {
   "cell_type": "markdown",
   "id": "580c9b5e",
   "metadata": {},
   "source": [
    "# 2.Network structure"
   ]
  },
  {
   "cell_type": "markdown",
   "id": "8d93f4fb",
   "metadata": {},
   "source": [
    "REF：GitHub. 2021. vision/resnet.py at 6db1569c89094cf23f3bc41f79275c45e9fcb3f3 · pytorch/vision. [online] Available at: <https://github.com/pytorch/vision/blob/6db1569c89094cf23f3bc41f79275c45e9fcb3f3/torchvision/models/resnet.py#L124> [Accessed 8 November 2021]."
   ]
  },
  {
   "cell_type": "code",
   "execution_count": 2,
   "id": "359b4dde",
   "metadata": {},
   "outputs": [],
   "source": [
    "class BuildingBlock(nn.Module):\n",
    "    def __init__(self, in_channel, out_channel, stride=1):\n",
    "        super(BuildingBlock,self).__init__()\n",
    "        self.stride=stride\n",
    "        #Convolution module\n",
    "        self.convPart=nn.Sequential(\n",
    "            nn.Conv2d(in_channel,\n",
    "                      out_channel,\n",
    "                      kernel_size=3,\n",
    "                      stride=stride,\n",
    "                      padding=1,\n",
    "                      bias=False), nn.BatchNorm2d(out_channel),\n",
    "            nn.CELU(inplace=True),\n",
    "            nn.Conv2d(out_channel,\n",
    "                      out_channel,\n",
    "                      kernel_size=3,\n",
    "                      stride=1,\n",
    "                      padding=1,\n",
    "                      bias=False),\n",
    "            nn.BatchNorm2d(out_channel),\n",
    "        )\n",
    "        \n",
    "        self.Residual_link = nn.Sequential()\n",
    "        #Residual link\n",
    "        #The step size is not 1, which means that the current block is the first layer of each stage, \n",
    "        #     and a convolution kernel with a step size of 2 is used. This will cause the number of \n",
    "        #      output channels of the convolutional layer and the number of channels of the residual link to be unequal.\n",
    "        \n",
    "        if stride != 1 or in_channel !=  out_channel:\n",
    "            self.Residual_link= nn.Sequential(\n",
    "                nn.Conv2d(in_channels=in_channel, out_channels=out_channel, kernel_size=1, stride=stride, bias=False),\n",
    "                nn.BatchNorm2d(out_channel)\n",
    "            )\n",
    "        self.activate = nn.CELU(inplace=True)\n",
    "    def forward(self, x):\n",
    "        out = self.convPart(x)\n",
    "        residual = self.Residual_link(x)\n",
    "        out += residual\n",
    "        out = self.activate(out)\n",
    "        return out\n",
    "\n",
    "\n",
    "\n",
    "class ResNet18(nn.Module):\n",
    "    def __init__(self,Block):\n",
    "        super(ResNet18, self).__init__()\n",
    "        self.input=nn.Sequential(\n",
    "            nn.Conv2d(in_channels=3,out_channels=64,kernel_size=(3,3),padding=1,bias=False),\n",
    "            nn.BatchNorm2d(64),\n",
    "            nn.CELU(inplace=True),\n",
    "        )\n",
    "        #Build a network structure\n",
    "        self.stage1=self.makestage(Block,inchannel=64,outchannel=64,num_block=2,stride=1)\n",
    "        self.stage2 = self.makestage(Block,inchannel=64, outchannel=128, num_block=2, stride=2)\n",
    "        self.stage3= self.makestage(Block,inchannel=128, outchannel=256, num_block=2, stride=2)\n",
    "        self.stage4 = self.makestage(Block,inchannel=256, outchannel=512, num_block=2, stride=2)\n",
    "        \n",
    "        self.avgpool = nn.AdaptiveAvgPool2d((1, 1))\n",
    "        self.dp = nn.Dropout(0.5)\n",
    "        #Fully connected layer for classification\n",
    "        self.fc = nn.Linear(512, 100)\n",
    "\n",
    "    def makestage(self,Block,num_block,inchannel,outchannel,stride):\n",
    "        blocks=[]\n",
    "        blocks.append(Block(inchannel,outchannel,stride=stride))\n",
    "        for i in range(1,num_block):\n",
    "            blocks.append(Block(outchannel,outchannel))\n",
    "        return nn.Sequential(*blocks)\n",
    "\n",
    "\n",
    "\n",
    "    def forward(self,x):\n",
    "        out=self.input(x)\n",
    "        out=self.stage1(out)\n",
    "        out= self.stage2(out)\n",
    "        out = self.stage3(out)\n",
    "        out = self.stage4(out)\n",
    "\n",
    "        out = self.avgpool(out)\n",
    "        out = out.view(x.size(0), -1)\n",
    "        out=self.dp(out)\n",
    "        out= self.fc(out)\n",
    "\n",
    "        return out"
   ]
  },
  {
   "cell_type": "markdown",
   "id": "fcc32ffc",
   "metadata": {},
   "source": [
    "# 3.Data set loading and preprocessing"
   ]
  },
  {
   "cell_type": "markdown",
   "id": "09425a55",
   "metadata": {},
   "source": [
    "# 3.1 Set the data preprocessing step"
   ]
  },
  {
   "cell_type": "code",
   "execution_count": 3,
   "id": "4ab27b69",
   "metadata": {},
   "outputs": [],
   "source": [
    "train_transform = transforms.Compose([\n",
    "    transforms.Pad(4),\n",
    "    transforms.RandomHorizontalFlip(),\n",
    "    transforms.RandomCrop(32),\n",
    "    # CIFAR10Policy(),\n",
    "    transforms.ToTensor(),\n",
    "    transforms.Normalize(\n",
    "            np.array([125.3, 123.0, 113.9]) / 255.0,\n",
    "            np.array([63.0, 62.1, 66.7]) / 255.0),\n",
    "])\n",
    "\n",
    "test_transform = transforms.Compose([\n",
    "    transforms.ToTensor(),\n",
    "    transforms.Normalize(\n",
    "            np.array([125.3, 123.0, 113.9]) / 255.0,\n",
    "            np.array([63.0, 62.1, 66.7]) / 255.0),\n",
    "])"
   ]
  },
  {
   "cell_type": "markdown",
   "id": "80926ffe",
   "metadata": {},
   "source": [
    "## 3.2 Load data set"
   ]
  },
  {
   "cell_type": "markdown",
   "id": "dac64ca7",
   "metadata": {},
   "source": [
    "Read the training set and test set separately"
   ]
  },
  {
   "cell_type": "code",
   "execution_count": 4,
   "id": "1cca1005",
   "metadata": {},
   "outputs": [
    {
     "name": "stdout",
     "output_type": "stream",
     "text": [
      "Files already downloaded and verified\n",
      "Files already downloaded and verified\n"
     ]
    }
   ],
   "source": [
    "train_dataset = torchvision.datasets.CIFAR100(root='/data',\n",
    "                                                ##Training set\n",
    "                                               train=True,\n",
    "                                               transform=train_transform,\n",
    "                                               download=True,\n",
    "                                               )\n",
    "\n",
    "test_dataset = torchvision.datasets.CIFAR100(root='/data',\n",
    "                                              ##Testing set\n",
    "                                              train=False,\n",
    "                                              transform=test_transform,\n",
    "                                              download=True\n",
    "                                              )"
   ]
  },
  {
   "cell_type": "markdown",
   "id": "544c769c",
   "metadata": {},
   "source": [
    "Divide the training set loaded in the previous step into a training set and a validation set."
   ]
  },
  {
   "cell_type": "code",
   "execution_count": 5,
   "id": "0985fec3",
   "metadata": {},
   "outputs": [],
   "source": [
    "# * In this experiment, 45,000 pictures were selected as the training set, and 5,000 pictures were used as the validation set. "
   ]
  },
  {
   "cell_type": "code",
   "execution_count": 6,
   "id": "d03ba05d",
   "metadata": {},
   "outputs": [],
   "source": [
    "train_size = int(0.9 * len(train_dataset))\n",
    "val_size = len(train_dataset) - train_size\n",
    "\n",
    "train_dataset, val_dataset = torch.utils.data.random_split(train_dataset, [train_size, val_size])\n"
   ]
  },
  {
   "cell_type": "markdown",
   "id": "97ed6582",
   "metadata": {},
   "source": [
    "## 3.3 Group each data set into a minibatch."
   ]
  },
  {
   "cell_type": "code",
   "execution_count": 7,
   "id": "41b1c0d8",
   "metadata": {},
   "outputs": [],
   "source": [
    "#Set the batchsize size.\n",
    "batch_size=128\n",
    "train_loader = torch.utils.data.DataLoader(\n",
    "    dataset=train_dataset,\n",
    "    batch_size=batch_size,\n",
    "    #Shuffle the data set\n",
    "    shuffle=True\n",
    ")\n",
    "\n",
    "val_loader = torch.utils.data.DataLoader(\n",
    "    dataset=val_dataset,\n",
    "    batch_size=batch_size,\n",
    "    #Shuffle the data set\n",
    "    shuffle=True\n",
    ")\n",
    "\n",
    "test_loader = torch.utils.data.DataLoader(\n",
    "    dataset=test_dataset,\n",
    "    batch_size=batch_size,\n",
    "    #Shuffle the data set\n",
    "    shuffle=True)"
   ]
  },
  {
   "cell_type": "markdown",
   "id": "dbc9e09e",
   "metadata": {},
   "source": [
    "#  4 Training and testing"
   ]
  },
  {
   "cell_type": "markdown",
   "id": "b810eee9",
   "metadata": {},
   "source": [
    "# 4.1 Test method definition"
   ]
  },
  {
   "cell_type": "code",
   "execution_count": 8,
   "id": "2b92c3c0",
   "metadata": {},
   "outputs": [],
   "source": [
    "#Select the model to be trained."
   ]
  },
  {
   "cell_type": "code",
   "execution_count": 9,
   "id": "537222f8",
   "metadata": {},
   "outputs": [],
   "source": [
    "def eval(model,data,Test_Var,Result):\n",
    "    device = torch.device('cuda' if torch.cuda.is_available() else 'cpu')\n",
    "    model.eval()\n",
    "\n",
    "    with torch.no_grad():\n",
    "        correct = 0\n",
    "        total = 0\n",
    "        all_preds = torch.tensor([])\n",
    "        all_labels = torch.tensor([])\n",
    "        for images, labels in data:\n",
    "            images = images.to(device)\n",
    "            labels = labels.to(device)\n",
    "            outputs = model(images)\n",
    "            _, predicted = torch.max(outputs.data, 1)\n",
    "            total += labels.size(0)\n",
    "            correct += (predicted == labels).sum().item()\n",
    "            all_preds = torch.cat(\n",
    "                (all_preds, predicted.data.cpu())\n",
    "                , dim=0\n",
    "            )\n",
    "            all_labels = torch.cat(\n",
    "                (all_labels, labels.data.cpu())\n",
    "                , dim=0\n",
    "            )\n",
    "        if(Result==True):\n",
    "            con = confusion_matrix(np.array(all_labels).astype(int), np.array(all_preds).astype(int))\n",
    "            sn.heatmap(con, cmap='Purples')\n",
    "            plt.show()\n",
    "            print(\"Accuracy of the model on the \"+Test_Var+\" dataset:{}%\".format(100 * correct / total))\n",
    "            cr=classification_report(np.array(all_labels).astype(int), np.array(all_preds).astype(int))\n",
    "            print(cr)\n",
    "    return 100 * correct / total"
   ]
  },
  {
   "cell_type": "markdown",
   "id": "3bf96f01",
   "metadata": {},
   "source": [
    "## 4.2 Train method definition"
   ]
  },
  {
   "cell_type": "code",
   "execution_count": 10,
   "id": "5041d956",
   "metadata": {},
   "outputs": [],
   "source": [
    "def train(model,num_epochs,train_loader,criterion,scheduler,optimizer,savepath=None):\n",
    "    loss_list=[]\n",
    "    val_list=[]\n",
    "    loss=0\n",
    "    for epoch in tqdm(range(num_epochs)):\n",
    "        model.train()\n",
    "        loss=0\n",
    "        loss_batch_list = []\n",
    "        for images, labels in train_loader:\n",
    "            images = images.to(device)\n",
    "            labels = labels.to(device)\n",
    "\n",
    "            outputs = model(images)\n",
    "            loss = criterion(outputs, labels)\n",
    "\n",
    "            optimizer.zero_grad()\n",
    "            loss.backward()\n",
    "            optimizer.step()\n",
    "        loss_list.append(loss.item())\n",
    "        #print(\"Epoch[{}/{}] Loss: {:.4f}\".format(epoch + 1, num_epochs, loss.item()))\n",
    "        val_acc=eval(model,val_loader,\"Var\",False)\n",
    "        val_list.append(val_acc)\n",
    "        if (epoch + 1) % 10 == 0:\n",
    "            test_acc=eval(model, test_loader, \"Test\",False)\n",
    "        scheduler.step()\n",
    "    print(\"Loss in train dataset: \"+str(loss_list[-1]))\n",
    "    print(\"Accuracy of the model on the \"+\"Test\"+\" dataset:{}%\".format(eval(model, test_loader, \"Test\",False)))\n",
    "    x = range(num_epochs)\n",
    "    \n",
    "    fig = plt.figure()\n",
    "    a1 = fig.add_subplot(111)\n",
    "    a1.plot(x,loss_list)\n",
    "    a1.set_ylabel('loss')\n",
    "    a2 = a1.twinx()\n",
    "    a2.plot(x, val_list, 'r')\n",
    "    a2.set_ylabel('val acc')\n",
    "    fig.legend(labels=('loss', 'val acc'), loc='upper left')\n",
    "    plt.show()\n",
    "    torch.save(model,savepath)"
   ]
  },
  {
   "cell_type": "markdown",
   "id": "f66dcb2f",
   "metadata": {},
   "source": [
    "# 4.2Train and testing the model"
   ]
  },
  {
   "cell_type": "code",
   "execution_count": 11,
   "id": "a24d327d",
   "metadata": {
    "scrolled": false
   },
   "outputs": [
    {
     "name": "stdout",
     "output_type": "stream",
     "text": [
      "True\n"
     ]
    },
    {
     "name": "stderr",
     "output_type": "stream",
     "text": [
      "100%|██████████| 150/150 [41:54<00:00, 16.76s/it]\n"
     ]
    },
    {
     "name": "stdout",
     "output_type": "stream",
     "text": [
      "Loss in train dataset: 0.043582044541835785\n",
      "Accuracy of the model on the Test dataset:71.93%\n"
     ]
    },
    {
     "data": {
      "image/png": "[encoded data removed]",
      "text/plain": [
       "<Figure size 432x288 with 2 Axes>"
      ]
     },
     "metadata": {
      "needs_background": "light"
     },
     "output_type": "display_data"
    },
    {
     "data": {
      "image/png": "[encoded data removed]",
      "text/plain": [
       "<Figure size 432x288 with 2 Axes>"
      ]
     },
     "metadata": {
      "needs_background": "light"
     },
     "output_type": "display_data"
    },
    {
     "name": "stdout",
     "output_type": "stream",
     "text": [
      "Accuracy of the model on the Test dataset:71.93%\n",
      "              precision    recall  f1-score   support\n",
      "\n",
      "           0       0.85      0.81      0.83       100\n",
      "           1       0.85      0.87      0.86       100\n",
      "           2       0.59      0.58      0.59       100\n",
      "           3       0.56      0.51      0.53       100\n",
      "           4       0.57      0.54      0.55       100\n",
      "           5       0.71      0.78      0.74       100\n",
      "           6       0.79      0.81      0.80       100\n",
      "           7       0.76      0.69      0.72       100\n",
      "           8       0.87      0.86      0.86       100\n",
      "           9       0.84      0.81      0.83       100\n",
      "          10       0.62      0.56      0.59       100\n",
      "          11       0.50      0.53      0.51       100\n",
      "          12       0.79      0.78      0.78       100\n",
      "          13       0.73      0.71      0.72       100\n",
      "          14       0.63      0.69      0.66       100\n",
      "          15       0.68      0.75      0.71       100\n",
      "          16       0.74      0.72      0.73       100\n",
      "          17       0.90      0.86      0.88       100\n",
      "          18       0.71      0.63      0.67       100\n",
      "          19       0.68      0.62      0.65       100\n",
      "          20       0.88      0.88      0.88       100\n",
      "          21       0.80      0.88      0.84       100\n",
      "          22       0.85      0.71      0.77       100\n",
      "          23       0.80      0.81      0.81       100\n",
      "          24       0.86      0.79      0.82       100\n",
      "          25       0.59      0.61      0.60       100\n",
      "          26       0.69      0.65      0.67       100\n",
      "          27       0.62      0.60      0.61       100\n",
      "          28       0.82      0.81      0.81       100\n",
      "          29       0.79      0.67      0.72       100\n",
      "          30       0.70      0.62      0.66       100\n",
      "          31       0.67      0.73      0.70       100\n",
      "          32       0.68      0.64      0.66       100\n",
      "          33       0.68      0.67      0.67       100\n",
      "          34       0.71      0.78      0.74       100\n",
      "          35       0.47      0.51      0.49       100\n",
      "          36       0.83      0.78      0.80       100\n",
      "          37       0.79      0.81      0.80       100\n",
      "          38       0.64      0.71      0.67       100\n",
      "          39       0.85      0.85      0.85       100\n",
      "          40       0.65      0.68      0.66       100\n",
      "          41       0.86      0.89      0.87       100\n",
      "          42       0.71      0.74      0.73       100\n",
      "          43       0.78      0.76      0.77       100\n",
      "          44       0.47      0.49      0.48       100\n",
      "          45       0.59      0.64      0.62       100\n",
      "          46       0.57      0.59      0.58       100\n",
      "          47       0.62      0.65      0.63       100\n",
      "          48       0.87      0.92      0.89       100\n",
      "          49       0.82      0.80      0.81       100\n",
      "          50       0.50      0.57      0.54       100\n",
      "          51       0.74      0.73      0.74       100\n",
      "          52       0.59      0.63      0.61       100\n",
      "          53       0.88      0.94      0.91       100\n",
      "          54       0.77      0.85      0.81       100\n",
      "          55       0.41      0.53      0.46       100\n",
      "          56       0.89      0.87      0.88       100\n",
      "          57       0.81      0.80      0.80       100\n",
      "          58       0.83      0.86      0.84       100\n",
      "          59       0.65      0.66      0.66       100\n",
      "          60       0.82      0.88      0.85       100\n",
      "          61       0.76      0.72      0.74       100\n",
      "          62       0.69      0.75      0.72       100\n",
      "          63       0.74      0.64      0.68       100\n",
      "          64       0.62      0.55      0.58       100\n",
      "          65       0.62      0.58      0.60       100\n",
      "          66       0.81      0.76      0.78       100\n",
      "          67       0.58      0.59      0.58       100\n",
      "          68       0.89      0.91      0.90       100\n",
      "          69       0.81      0.81      0.81       100\n",
      "          70       0.81      0.71      0.76       100\n",
      "          71       0.75      0.76      0.76       100\n",
      "          72       0.40      0.46      0.43       100\n",
      "          73       0.54      0.58      0.56       100\n",
      "          74       0.51      0.54      0.53       100\n",
      "          75       0.86      0.85      0.85       100\n",
      "          76       0.85      0.88      0.87       100\n",
      "          77       0.75      0.62      0.68       100\n",
      "          78       0.63      0.63      0.63       100\n",
      "          79       0.72      0.79      0.76       100\n",
      "          80       0.55      0.52      0.53       100\n",
      "          81       0.73      0.74      0.73       100\n",
      "          82       0.91      0.90      0.90       100\n",
      "          83       0.71      0.71      0.71       100\n",
      "          84       0.70      0.73      0.72       100\n",
      "          85       0.87      0.76      0.81       100\n",
      "          86       0.85      0.71      0.77       100\n",
      "          87       0.78      0.79      0.79       100\n",
      "          88       0.89      0.73      0.80       100\n",
      "          89       0.82      0.89      0.85       100\n",
      "          90       0.77      0.86      0.81       100\n",
      "          91       0.79      0.79      0.79       100\n",
      "          92       0.66      0.64      0.65       100\n",
      "          93       0.58      0.57      0.58       100\n",
      "          94       0.89      0.95      0.92       100\n",
      "          95       0.73      0.72      0.73       100\n",
      "          96       0.67      0.66      0.67       100\n",
      "          97       0.81      0.80      0.80       100\n",
      "          98       0.55      0.53      0.54       100\n",
      "          99       0.74      0.70      0.72       100\n",
      "\n",
      "    accuracy                           0.72     10000\n",
      "   macro avg       0.72      0.72      0.72     10000\n",
      "weighted avg       0.72      0.72      0.72     10000\n",
      "\n"
     ]
    },
    {
     "data": {
      "text/plain": [
       "71.93"
      ]
     },
     "execution_count": 11,
     "metadata": {},
     "output_type": "execute_result"
    }
   ],
   "source": [
    "device = torch.device('cuda' if torch.cuda.is_available() else 'cpu')\n",
    "print(torch.cuda.is_available())\n",
    "#Create model\n",
    "model=ResNet18(BuildingBlock)\n",
    "#Number of training iterations\n",
    "num_epochs=150\n",
    "model.cuda()\n",
    "#Learning rate\n",
    "learning_rate=0.01\n",
    "optimizer = torch.optim.SGD(model.parameters(),\n",
    "                lr=learning_rate,\n",
    "                momentum=0.9,\n",
    "                weight_decay=0.0001,\n",
    "                nesterov=True)\n",
    "\n",
    "#Set the learning rate drop rule.\n",
    "scheduler = torch.optim.lr_scheduler.MultiStepLR(optimizer, [60,120],gamma=0.1)\n",
    "#Set loss function\n",
    "criterion= nn.CrossEntropyLoss().cuda()\n",
    "train(model,num_epochs,train_loader,criterion,scheduler,optimizer,\"group76_pretrained_model.h5\")\n",
    "eval(model, test_loader, \"Test\",True)\n"
   ]
  },
  {
   "cell_type": "markdown",
   "id": "ad77d3d7",
   "metadata": {},
   "source": [
    "#  5 Test the model from pre-trained model\n",
    "    Load the pre-trained model completed in the job and test the accuracy."
   ]
  },
  {
   "cell_type": "code",
   "execution_count": 14,
   "id": "296f35f4",
   "metadata": {
    "scrolled": false
   },
   "outputs": [
    {
     "data": {
      "image/png": "[encoded data removed]",
      "text/plain": [
       "<Figure size 432x288 with 2 Axes>"
      ]
     },
     "metadata": {
      "needs_background": "light"
     },
     "output_type": "display_data"
    },
    {
     "name": "stdout",
     "output_type": "stream",
     "text": [
      "Accuracy of the model on the Test dataset:71.93%\n",
      "              precision    recall  f1-score   support\n",
      "\n",
      "           0       0.85      0.81      0.83       100\n",
      "           1       0.85      0.87      0.86       100\n",
      "           2       0.59      0.58      0.59       100\n",
      "           3       0.56      0.51      0.53       100\n",
      "           4       0.57      0.54      0.55       100\n",
      "           5       0.71      0.78      0.74       100\n",
      "           6       0.79      0.81      0.80       100\n",
      "           7       0.76      0.69      0.72       100\n",
      "           8       0.87      0.86      0.86       100\n",
      "           9       0.84      0.81      0.83       100\n",
      "          10       0.62      0.56      0.59       100\n",
      "          11       0.50      0.53      0.51       100\n",
      "          12       0.79      0.78      0.78       100\n",
      "          13       0.73      0.71      0.72       100\n",
      "          14       0.63      0.69      0.66       100\n",
      "          15       0.68      0.75      0.71       100\n",
      "          16       0.74      0.72      0.73       100\n",
      "          17       0.90      0.86      0.88       100\n",
      "          18       0.71      0.63      0.67       100\n",
      "          19       0.68      0.62      0.65       100\n",
      "          20       0.88      0.88      0.88       100\n",
      "          21       0.80      0.88      0.84       100\n",
      "          22       0.85      0.71      0.77       100\n",
      "          23       0.80      0.81      0.81       100\n",
      "          24       0.86      0.79      0.82       100\n",
      "          25       0.59      0.61      0.60       100\n",
      "          26       0.69      0.65      0.67       100\n",
      "          27       0.62      0.60      0.61       100\n",
      "          28       0.82      0.81      0.81       100\n",
      "          29       0.79      0.67      0.72       100\n",
      "          30       0.70      0.62      0.66       100\n",
      "          31       0.67      0.73      0.70       100\n",
      "          32       0.68      0.64      0.66       100\n",
      "          33       0.68      0.67      0.67       100\n",
      "          34       0.71      0.78      0.74       100\n",
      "          35       0.47      0.51      0.49       100\n",
      "          36       0.83      0.78      0.80       100\n",
      "          37       0.79      0.81      0.80       100\n",
      "          38       0.64      0.71      0.67       100\n",
      "          39       0.85      0.85      0.85       100\n",
      "          40       0.65      0.68      0.66       100\n",
      "          41       0.86      0.89      0.87       100\n",
      "          42       0.71      0.74      0.73       100\n",
      "          43       0.78      0.76      0.77       100\n",
      "          44       0.47      0.49      0.48       100\n",
      "          45       0.59      0.64      0.62       100\n",
      "          46       0.57      0.59      0.58       100\n",
      "          47       0.62      0.65      0.63       100\n",
      "          48       0.87      0.92      0.89       100\n",
      "          49       0.82      0.80      0.81       100\n",
      "          50       0.50      0.57      0.54       100\n",
      "          51       0.74      0.73      0.74       100\n",
      "          52       0.59      0.63      0.61       100\n",
      "          53       0.88      0.94      0.91       100\n",
      "          54       0.77      0.85      0.81       100\n",
      "          55       0.41      0.53      0.46       100\n",
      "          56       0.89      0.87      0.88       100\n",
      "          57       0.81      0.80      0.80       100\n",
      "          58       0.83      0.86      0.84       100\n",
      "          59       0.65      0.66      0.66       100\n",
      "          60       0.82      0.88      0.85       100\n",
      "          61       0.76      0.72      0.74       100\n",
      "          62       0.69      0.75      0.72       100\n",
      "          63       0.74      0.64      0.68       100\n",
      "          64       0.62      0.55      0.58       100\n",
      "          65       0.62      0.58      0.60       100\n",
      "          66       0.81      0.76      0.78       100\n",
      "          67       0.58      0.59      0.58       100\n",
      "          68       0.89      0.91      0.90       100\n",
      "          69       0.81      0.81      0.81       100\n",
      "          70       0.81      0.71      0.76       100\n",
      "          71       0.75      0.76      0.76       100\n",
      "          72       0.40      0.46      0.43       100\n",
      "          73       0.54      0.58      0.56       100\n",
      "          74       0.51      0.54      0.53       100\n",
      "          75       0.86      0.85      0.85       100\n",
      "          76       0.85      0.88      0.87       100\n",
      "          77       0.75      0.62      0.68       100\n",
      "          78       0.63      0.63      0.63       100\n",
      "          79       0.72      0.79      0.76       100\n",
      "          80       0.55      0.52      0.53       100\n",
      "          81       0.73      0.74      0.73       100\n",
      "          82       0.91      0.90      0.90       100\n",
      "          83       0.71      0.71      0.71       100\n",
      "          84       0.70      0.73      0.72       100\n",
      "          85       0.87      0.76      0.81       100\n",
      "          86       0.85      0.71      0.77       100\n",
      "          87       0.78      0.79      0.79       100\n",
      "          88       0.89      0.73      0.80       100\n",
      "          89       0.82      0.89      0.85       100\n",
      "          90       0.77      0.86      0.81       100\n",
      "          91       0.79      0.79      0.79       100\n",
      "          92       0.66      0.64      0.65       100\n",
      "          93       0.58      0.57      0.58       100\n",
      "          94       0.89      0.95      0.92       100\n",
      "          95       0.73      0.72      0.73       100\n",
      "          96       0.67      0.66      0.67       100\n",
      "          97       0.81      0.80      0.80       100\n",
      "          98       0.55      0.53      0.54       100\n",
      "          99       0.74      0.70      0.72       100\n",
      "\n",
      "    accuracy                           0.72     10000\n",
      "   macro avg       0.72      0.72      0.72     10000\n",
      "weighted avg       0.72      0.72      0.72     10000\n",
      "\n"
     ]
    },
    {
     "data": {
      "text/plain": [
       "71.93"
      ]
     },
     "execution_count": 14,
     "metadata": {},
     "output_type": "execute_result"
    }
   ],
   "source": [
    "model=torch.load(r\"group76_pretrained_model.h5\")\n",
    "model.cuda()\n",
    "eval(model, test_loader, \"Test\",True)"
   ]
  },
  {
   "cell_type": "code",
   "execution_count": null,
   "id": "97ee8f89",
   "metadata": {},
   "outputs": [],
   "source": []
  }
 ],
 "metadata": {
  "kernelspec": {
   "display_name": "Python 3 (ipykernel)",
   "language": "python",
   "name": "python3"
  },
  "language_info": {
   "codemirror_mode": {
    "name": "ipython",
    "version": 3
   },
   "file_extension": ".py",
   "mimetype": "text/x-python",
   "name": "python",
   "nbconvert_exporter": "python",
   "pygments_lexer": "ipython3",
   "version": "3.8.12"
  }
 },
 "nbformat": 4,
 "nbformat_minor": 5
}
