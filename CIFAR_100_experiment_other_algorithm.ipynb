{
 "cells": [
  {
   "cell_type": "markdown",
   "id": "acd5e8f5",
   "metadata": {},
   "source": [
    "# 1.Setup"
   ]
  },
  {
   "cell_type": "markdown",
   "id": "f60ee07f",
   "metadata": {},
   "source": [
    "Import the required packages"
   ]
  },
  {
   "cell_type": "code",
   "execution_count": 20,
   "id": "5ade6a95",
   "metadata": {},
   "outputs": [],
   "source": [
    "import numpy as np\n",
    "from numpy import mean\n",
    "\n",
    "import torch.nn as nn\n",
    "import torch\n",
    "\n",
    "import os\n",
    "os.environ['KMP_DUPLICATE_LIB_OK'] = 'True'\n",
    "import torchvision\n",
    "from matplotlib import pyplot as plt\n",
    "import torchvision.transforms as transforms\n",
    "from torch.utils.data import DataLoader\n",
    "import math\n",
    "from tqdm import tqdm\n",
    "import matplotlib.pyplot as plt\n",
    "from sklearn.metrics import confusion_matrix\n",
    "from sklearn.metrics import classification_report\n",
    "import seaborn as sn\n"
   ]
  },
  {
   "cell_type": "markdown",
   "id": "b6ff1887",
   "metadata": {},
   "source": [
    "#  2Model structure construction\n",
    "## 2.1Densenet\n"
   ]
  },
  {
   "cell_type": "markdown",
   "id": "d824acbe",
   "metadata": {},
   "source": [
    "REF:huang, g., 2021. GitHub - liuzhuang13/DenseNet: Densely Connected Convolutional Networks, In CVPR 2017 (Best Paper Award).. [online] GitHub. Available at: <https://github.com/liuzhuang13/DenseNet> [Accessed 8 November 2021]."
   ]
  },
  {
   "cell_type": "code",
   "execution_count": 21,
   "id": "2a45d85e-f41d-4ae4-85ed-3313e23bb852",
   "metadata": {},
   "outputs": [],
   "source": [
    "#Construct denseblock.\n",
    "class DenseBlock(nn.Module):\n",
    "    def __init__(self,inchannel,outchannel):\n",
    "        super(DenseBlock, self).__init__()\n",
    "        interChannels=4*outchannel\n",
    "        \n",
    "        \n",
    "        self.Block1=nn.Sequential(\n",
    "            nn.BatchNorm2d(inchannel),\n",
    "            nn.Conv2d(inchannel,interChannels,kernel_size=(1,1),bias=False),\n",
    "            nn.CELU()\n",
    "        )\n",
    "\n",
    "        self.Block2=nn.Sequential(\n",
    "            nn.BatchNorm2d(interChannels),\n",
    "            nn.Conv2d(interChannels,outchannel,kernel_size=(3,3), padding=1,bias=False),\n",
    "            nn.CELU()\n",
    "        )\n",
    "\n",
    "    def forward(self,x):\n",
    "        out=self.Block1(x)\n",
    "        out=self.Block2(out)\n",
    "        #Construct the output of each DenseBlock through concat.\n",
    "        #The input of the current layer through concat can be passed to all the blocks of the current DenseBlock group.\n",
    "        out=torch.cat((x,out),1)\n",
    "        return out\n",
    "\n",
    "class Transition(nn.Module):\n",
    "    def __init__(self,inchannel,outchannels):\n",
    "        super(Transition, self).__init__()\n",
    "        self.tran=nn.Sequential(\n",
    "            nn.AvgPool2d((2,2)),\n",
    "            nn.BatchNorm2d(inchannel),\n",
    "            nn.CELU(),\n",
    "            nn.Conv2d(inchannel,outchannels,kernel_size=(1,1),bias=False),\n",
    "\n",
    "        )\n",
    "\n",
    "    def forward(self,x):\n",
    "        out=self.tran(x)\n",
    "        return out\n",
    "    \n",
    "class DenseNet(nn.Module):\n",
    "    def __init__(self, k, depth, reduction):\n",
    "        super().__init__()\n",
    "        nDenseBlocks=(depth-4)//6\n",
    "\n",
    "        denseChannels=2*k\n",
    "        \n",
    "        #Input layer\n",
    "        self.conv1 = nn.Conv2d(3,denseChannels, kernel_size=3, padding=1,\n",
    "                               bias=False)\n",
    "        self.dense1 = self.make_denseblock(denseChannels, k, nDenseBlocks)\n",
    "        #The number of channels output by DenseBlock.\n",
    "        denseChannels+= nDenseBlocks * k\n",
    "        # Set the number of channels of the feature map output \n",
    "        #   by Transition according to the channel reduction ratio set by the parameter reduction.\n",
    "        tran_out_chnnel = int(math.floor(denseChannels * reduction))\n",
    "        self.trans1 = Transition(denseChannels, tran_out_chnnel)\n",
    "        denseChannels = tran_out_chnnel\n",
    "        \n",
    "        self.dense2 = self.make_denseblock(denseChannels, k, nDenseBlocks)\n",
    "        denseChannels+= nDenseBlocks * k\n",
    "        nOutChannels = int(math.floor(denseChannels * reduction))\n",
    "        self.trans2 = Transition(denseChannels, nOutChannels)\n",
    "        denseChannels = nOutChannels\n",
    "\n",
    "        self.dense3 = self.make_denseblock(denseChannels, k, nDenseBlocks)\n",
    "        denseChannels += nDenseBlocks * k\n",
    "        \n",
    "        #Output layer\n",
    "        self.classifer=nn.Sequential(\n",
    "            #The Drop layer is used to reduce overfitting.\n",
    "            nn.Dropout(0.5),\n",
    "            nn.BatchNorm2d(denseChannels),\n",
    "            #Activation function\n",
    "            nn.CELU(),\n",
    "            #Max pooling\n",
    "            nn.MaxPool2d((8,8),2)\n",
    "        )\n",
    "        self.fc=nn.Linear(denseChannels,100)\n",
    "\n",
    "\n",
    "    def make_denseblock(self,inchannels,outchannel,num_blocks):\n",
    "        blocks=[]\n",
    "        #Call the defined dense block to construct the model in a cyclic manner.\n",
    "        for i in range(int(num_blocks)):\n",
    "            blocks.append(DenseBlock(inchannels,outchannel))\n",
    "            inchannels+=outchannel\n",
    "        return nn.Sequential(*blocks)\n",
    "\n",
    "    def forward(self, x):\n",
    "        out = self.conv1(x)\n",
    "        out = self.trans1(self.dense1(out))\n",
    "        out = self.trans2(self.dense2(out))\n",
    "        out = self.dense3(out)\n",
    "        out=self.classifer(out)\n",
    "        #Turn the two-dimensional feature map output by the convolutional layer into one-dimensional and output it to the fully connected layer for classification.\n",
    "        out = out.view(out.size(0), -1)\n",
    "        out= self.fc(out)\n",
    "\n",
    "        return out\n"
   ]
  },
  {
   "cell_type": "markdown",
   "id": "416f8104",
   "metadata": {},
   "source": [
    "## 2.2 Resnet"
   ]
  },
  {
   "cell_type": "markdown",
   "id": "2663cc9e",
   "metadata": {},
   "source": [
    "REF：GitHub. 2021. vision/resnet.py at 6db1569c89094cf23f3bc41f79275c45e9fcb3f3 · pytorch/vision. [online] Available at: <https://github.com/pytorch/vision/blob/6db1569c89094cf23f3bc41f79275c45e9fcb3f3/torchvision/models/resnet.py#L124> [Accessed 8 November 2021]."
   ]
  },
  {
   "cell_type": "code",
   "execution_count": 22,
   "id": "ea238be1",
   "metadata": {},
   "outputs": [],
   "source": [
    "class BuildingBlock(nn.Module):\n",
    "    def __init__(self, in_channel, out_channel, stride=1):\n",
    "        super(BuildingBlock,self).__init__()\n",
    "        self.stride=stride\n",
    "        #Convolution module\n",
    "        self.convPart=nn.Sequential(\n",
    "            nn.Conv2d(in_channel,\n",
    "                      out_channel,\n",
    "                      kernel_size=3,\n",
    "                      stride=stride,\n",
    "                      padding=1,\n",
    "                      bias=False), nn.BatchNorm2d(out_channel),\n",
    "            #Activation function\n",
    "            nn.CELU(inplace=True),\n",
    "            nn.Conv2d(out_channel,\n",
    "                      out_channel,\n",
    "                      kernel_size=3,\n",
    "                      stride=1,\n",
    "                      padding=1,\n",
    "                      bias=False),\n",
    "            nn.BatchNorm2d(out_channel),\n",
    "        )\n",
    "        \n",
    "        self.Residual_link = nn.Sequential()\n",
    "        #Residual link\n",
    "        #The step size is not 1, which means that the current block is the first layer of each stage, \n",
    "        #     and a convolution kernel with a step size of 2 is used. This will cause the number of \n",
    "        #      output channels of the convolutional layer and the number of channels of the residual link to be unequal.\n",
    "        \n",
    "        if stride != 1 or in_channel != out_channel:\n",
    "            self.Residual_link= nn.Sequential(\n",
    "                nn.Conv2d(in_channels=in_channel, out_channels=out_channel, kernel_size=1, stride=stride, bias=False),\n",
    "                nn.BatchNorm2d(out_channel)\n",
    "            )\n",
    "        self.activate = nn.CELU(inplace=True)\n",
    "    def forward(self, x):\n",
    "        out = self.convPart(x)\n",
    "        residual = self.Residual_link(x)\n",
    "        out += residual\n",
    "        out = self.activate(out)\n",
    "        return out\n",
    "\n",
    "\n",
    "\n",
    "class ResNet18(nn.Module):\n",
    "    def __init__(self,Block, expansion = 1):\n",
    "        super(ResNet18, self).__init__()\n",
    "        self.input=nn.Sequential(\n",
    "            nn.Conv2d(in_channels=3,out_channels=64,kernel_size=(3,3),padding=1,bias=False),\n",
    "            nn.BatchNorm2d(64),\n",
    "            nn.CELU(inplace=True),\n",
    "        )\n",
    "        #Build a network structure\n",
    "        self.stage1=self.makestage(Block,inchannel=64,outchannel=64,num_block=2,stride=1)\n",
    "        self.stage2 = self.makestage(Block,inchannel=64, outchannel=128, num_block=2, stride=2)\n",
    "        self.stage3= self.makestage(Block,inchannel=128, outchannel=256, num_block=2, stride=2)\n",
    "        self.stage4 = self.makestage(Block,inchannel=256, outchannel=512, num_block=2, stride=2)\n",
    "        #The dimension on each channel is 1x1\n",
    "        self.avgpool = nn.AdaptiveAvgPool2d((1, 1))\n",
    "        self.dp = nn.Dropout(0.5)\n",
    "        #Fully connected layer for classification\n",
    "        self.fc = nn.Linear(512, 100)\n",
    "\n",
    "    def makestage(self,Block,num_block,inchannel,outchannel,stride,exp=1):\n",
    "        blocks=[]\n",
    "        blocks.append(Block(inchannel,outchannel,stride=stride))\n",
    "        for i in range(1,num_block):\n",
    "            blocks.append(Block(outchannel,outchannel))\n",
    "\n",
    "        return nn.Sequential(*blocks)\n",
    "\n",
    "\n",
    "\n",
    "    def forward(self,x):\n",
    "        out=self.input(x)\n",
    "        out=self.stage1(out)\n",
    "        out= self.stage2(out)\n",
    "        out = self.stage3(out)\n",
    "        out = self.stage4(out)\n",
    "        out = self.avgpool(out)\n",
    "        out = out.view(x.size(0), -1)\n",
    "        out=self.dp(out)\n",
    "        out= self.fc(out)\n",
    "\n",
    "        return out"
   ]
  },
  {
   "cell_type": "markdown",
   "id": "7c4667bc",
   "metadata": {},
   "source": [
    "## 2.3 VGG\n"
   ]
  },
  {
   "cell_type": "code",
   "execution_count": 23,
   "id": "4de5a898",
   "metadata": {},
   "outputs": [],
   "source": [
    "class VGG(nn.Module):\n",
    "    def __init__(self):\n",
    "        super(VGG, self).__init__()\n",
    "\n",
    "        self.convblocks1= self.make_layer(2,64,3)\n",
    "        self.convblocks2 = self.make_layer(2, 128,64)\n",
    "        self.convblocks3 = self.make_layer(4, 256,128)\n",
    "        self.convblocks4 = self.make_layer(4, 512,256)\n",
    "        self.convblocks5 = self.make_layer(4, 512,512)\n",
    "        self.pooling=nn.AdaptiveAvgPool2d((7, 7))\n",
    "        self.classifer = nn.Sequential(\n",
    "            # inchannl= 512*7*7\n",
    "            nn.Linear(25088, 4096),\n",
    "            nn.Dropout(0.5),\n",
    "            nn.ReLU(),\n",
    "            nn.Linear(4096, 4096),\n",
    "            nn.ReLU(),\n",
    "            nn.Linear(4096, 100),\n",
    "        )\n",
    "\n",
    "\n",
    "    def make_layer(self,n_layers,channels,in_channels):\n",
    "        layer=[]\n",
    "        layer.append(nn.Conv2d(in_channels=in_channels, out_channels=channels, kernel_size=3,padding=1,bias=False))\n",
    "        layer.append(nn.ReLU(inplace=True))\n",
    "        for i in range(1,n_layers):\n",
    "            layer.append(nn.Conv2d(channels,channels,kernel_size=3,padding=1,bias=False))\n",
    "            if(i==n_layers-1):\n",
    "                layer.append(nn.BatchNorm2d(channels))\n",
    "            layer.append(nn.ReLU(inplace=True))\n",
    "        layer.append(nn.MaxPool2d(kernel_size=2,stride=2))\n",
    "        return nn.Sequential(*layer)\n",
    "\n",
    "    def forward(self, x):\n",
    "        out=  self.convblocks1(x)\n",
    "        out = self.convblocks2(out)\n",
    "        out = self.convblocks3(out)\n",
    "        out = self.convblocks4(out)\n",
    "        out = self.convblocks5(out)\n",
    "        out= self.pooling(out)\n",
    "        out = out.view(x.size(0), -1)\n",
    "        out= self.classifer(out)\n",
    "        return out\n"
   ]
  },
  {
   "cell_type": "markdown",
   "id": "87d85612",
   "metadata": {},
   "source": [
    "#  3 Data set loading and preprocessing"
   ]
  },
  {
   "cell_type": "markdown",
   "id": "9b491eac",
   "metadata": {},
   "source": [
    "## 3.1 Set the data preprocessing step."
   ]
  },
  {
   "cell_type": "code",
   "execution_count": 24,
   "id": "8f1c8537-cbc9-44be-a15c-74717e9c55c9",
   "metadata": {},
   "outputs": [],
   "source": [
    "train_transform = transforms.Compose([\n",
    "    \n",
    "    transforms.Pad(4),\n",
    "    transforms.RandomHorizontalFlip(),\n",
    "    transforms.RandomCrop(32),\n",
    "    transforms.ToTensor(),\n",
    "    #Normalized\n",
    "    transforms.Normalize(\n",
    "            np.array([125.3, 123.0, 113.9]) / 255.0,\n",
    "            np.array([63.0, 62.1, 66.7]) / 255.0),\n",
    "])\n",
    "\n",
    "test_transform = transforms.Compose([\n",
    "    transforms.ToTensor(),\n",
    "    #Normalized\n",
    "    transforms.Normalize(\n",
    "            np.array([125.3, 123.0, 113.9]) / 255.0,\n",
    "            np.array([63.0, 62.1, 66.7]) / 255.0),\n",
    "])"
   ]
  },
  {
   "cell_type": "markdown",
   "id": "0785557e",
   "metadata": {},
   "source": [
    "## 3.2 Load data set"
   ]
  },
  {
   "cell_type": "markdown",
   "id": "b11ea316",
   "metadata": {},
   "source": [
    "Read the training set and test set separately"
   ]
  },
  {
   "cell_type": "code",
   "execution_count": 25,
   "id": "5cb3dfc9-2f2b-4f5f-aa75-dd821dc22818",
   "metadata": {},
   "outputs": [
    {
     "name": "stdout",
     "output_type": "stream",
     "text": [
      "Files already downloaded and verified\n",
      "Files already downloaded and verified\n"
     ]
    }
   ],
   "source": [
    "train_dataset = torchvision.datasets.CIFAR100(root='/data',\n",
    "                                                ##Training set\n",
    "                                               train=True,\n",
    "                                               transform=train_transform,\n",
    "                                               download=True,\n",
    "                                               )\n",
    "\n",
    "test_dataset = torchvision.datasets.CIFAR100(root='/data',\n",
    "                                              ##Testing set\n",
    "                                              train=False,\n",
    "                                              transform=test_transform,\n",
    "                                              download=True\n",
    "                                              )"
   ]
  },
  {
   "cell_type": "markdown",
   "id": "d6048b0b",
   "metadata": {},
   "source": [
    "Divide the training set loaded in the previous step into a training set and a validation set."
   ]
  },
  {
   "cell_type": "markdown",
   "id": "d30cd4b8",
   "metadata": {},
   "source": [
    "* In this experiment, 45,000 pictures were selected as the training set, and 5,000 pictures were used as the validation set. "
   ]
  },
  {
   "cell_type": "code",
   "execution_count": 26,
   "id": "dd0bac1c-4783-4700-b2e8-c6ec4dadbd38",
   "metadata": {},
   "outputs": [],
   "source": [
    "#Set the validation set ratio\n",
    "train_size = int(0.9 * len(train_dataset))\n",
    "val_size = len(train_dataset) - train_size\n",
    "#Randomly divide the data set\n",
    "train_dataset, val_dataset = torch.utils.data.random_split(train_dataset, [train_size, val_size])\n"
   ]
  },
  {
   "cell_type": "markdown",
   "id": "0c8e4711",
   "metadata": {},
   "source": [
    "## 3.3 Group each data set into a minibatch."
   ]
  },
  {
   "cell_type": "code",
   "execution_count": 27,
   "id": "1eb312f1-1ab3-4f55-bd65-cd89164dda0c",
   "metadata": {},
   "outputs": [],
   "source": [
    "#Set the batchsize size.\n",
    "batch_size=128\n",
    "train_loader = torch.utils.data.DataLoader(\n",
    "    dataset=train_dataset,\n",
    "    batch_size=batch_size,\n",
    "    #Shuffle the data set\n",
    "    shuffle=True\n",
    ")\n",
    "\n",
    "val_loader = torch.utils.data.DataLoader(\n",
    "    dataset=val_dataset,\n",
    "    batch_size=batch_size,\n",
    "    #Shuffle the data set\n",
    "    shuffle=True\n",
    ")\n",
    "\n",
    "test_loader = torch.utils.data.DataLoader(\n",
    "    dataset=test_dataset,\n",
    "    batch_size=batch_size,\n",
    "    #Shuffle the data set\n",
    "    shuffle=True)"
   ]
  },
  {
   "cell_type": "markdown",
   "id": "3fdc88e2",
   "metadata": {},
   "source": [
    "#  4 Training and testing"
   ]
  },
  {
   "cell_type": "markdown",
   "id": "eaaad022",
   "metadata": {},
   "source": [
    "## 4.1 Test method definition"
   ]
  },
  {
   "cell_type": "code",
   "execution_count": 28,
   "id": "dd812e47",
   "metadata": {},
   "outputs": [],
   "source": [
    "#Select the model to be trained."
   ]
  },
  {
   "cell_type": "code",
   "execution_count": 29,
   "id": "6511fe92-a700-4a90-854a-d82a46561ade",
   "metadata": {},
   "outputs": [],
   "source": [
    "def eval(model,data,Test_Var,Result):\n",
    "    model.eval()\n",
    "\n",
    "    with torch.no_grad():\n",
    "        correct = 0\n",
    "        total = 0\n",
    "        all_preds = torch.tensor([])\n",
    "        all_labels = torch.tensor([])\n",
    "        for images, labels in data:\n",
    "            images = images.to(device)\n",
    "            labels = labels.to(device)\n",
    "            outputs = model(images)\n",
    "            _, predicted = torch.max(outputs.data, 1)\n",
    "            total += labels.size(0)\n",
    "            correct += (predicted == labels).sum().item()\n",
    "            all_preds = torch.cat(\n",
    "                (all_preds, predicted.data.cpu())\n",
    "                , dim=0\n",
    "            )\n",
    "            all_labels = torch.cat(\n",
    "                (all_labels, labels.data.cpu())\n",
    "                , dim=0\n",
    "            )\n",
    "        if(Result==True):\n",
    "            con = confusion_matrix(np.array(all_labels).astype(int), np.array(all_preds).astype(int))\n",
    "            sn.heatmap(con, cmap='Purples')\n",
    "            plt.show()\n",
    "            print(\"Accuracy of the model on the \"+Test_Var+\" dataset:{}%\".format(100 * correct / total))\n",
    "            cr=classification_report(np.array(all_labels).astype(int), np.array(all_preds).astype(int),target_names=test_dataset.classes,digits=4)\n",
    "            print(cr)\n",
    "    return 100 * correct / total\n"
   ]
  },
  {
   "cell_type": "markdown",
   "id": "2603c493",
   "metadata": {},
   "source": [
    "## 4.2 Train method definition"
   ]
  },
  {
   "cell_type": "code",
   "execution_count": 30,
   "id": "0237e58f-0166-4714-918d-bf96e1107879",
   "metadata": {},
   "outputs": [],
   "source": [
    "def train(model,num_epochs,train_loader,criterion,scheduler,optimizer,savepath=None):\n",
    "    loss_list=[]\n",
    "    val_list=[]\n",
    "    loss=0\n",
    "    for epoch in tqdm(range(num_epochs)):\n",
    "        model.train()\n",
    "        loss=0\n",
    "        loss_batch_list = []\n",
    "        for images, labels in train_loader:\n",
    "            images = images.to(device)\n",
    "            labels = labels.to(device)\n",
    "\n",
    "            outputs = model(images)\n",
    "            loss = criterion(outputs, labels)\n",
    "\n",
    "            optimizer.zero_grad()\n",
    "            loss.backward()\n",
    "            optimizer.step()\n",
    "        loss_list.append(loss.item())\n",
    "        #print(\"Epoch[{}/{}] Loss: {:.4f}\".format(epoch + 1, num_epochs, loss.item()))\n",
    "        val_acc=eval(model,val_loader,\"Var\",False)\n",
    "        val_list.append(val_acc)\n",
    "        if (epoch + 1) % 10 == 0:\n",
    "            test_acc=eval(model, test_loader, \"Test\",False)\n",
    "        scheduler.step()\n",
    "    print(\"Loss in train dataset\"+str(loss_list[-1]))\n",
    "    print(\"Accuracy of the model on the \"+\"Test\"+\" dataset:{}%\".format(eval(model, test_loader, \"Test\",False)))\n",
    "    x = range(num_epochs)\n",
    "    #\n",
    "    fig = plt.figure()\n",
    "    a1 = fig.add_subplot(111)\n",
    "    a1.plot(x,loss_list)\n",
    "    a1.set_ylabel('loss')\n",
    "    a2 = a1.twinx()\n",
    "    a2.plot(x, val_list, 'r')\n",
    "    a2.set_ylabel('val acc')\n",
    "    fig.legend(labels=('loss', 'val acc'), loc='upper left')\n",
    "    plt.show()\n",
    "    torch.save(model,savepath)"
   ]
  },
  {
   "cell_type": "markdown",
   "id": "16099b53",
   "metadata": {},
   "source": [
    "## 4.3 Train and test VGG19"
   ]
  },
  {
   "cell_type": "code",
   "execution_count": 12,
   "id": "a127e1c4",
   "metadata": {
    "scrolled": false
   },
   "outputs": [
    {
     "name": "stdout",
     "output_type": "stream",
     "text": [
      "True\n"
     ]
    },
    {
     "name": "stderr",
     "output_type": "stream",
     "text": [
      "100%|██████████| 150/150 [39:51<00:00, 15.94s/it]\n"
     ]
    },
    {
     "name": "stdout",
     "output_type": "stream",
     "text": [
      "Loss in train dataset0.10022267699241638\n",
      "Accuracy of the model on the Test dataset:64.8%\n"
     ]
    },
    {
     "data": {
      "image/png": "[encoded data removed]",
      "text/plain": [
       "<Figure size 432x288 with 2 Axes>"
      ]
     },
     "metadata": {
      "needs_background": "light"
     },
     "output_type": "display_data"
    },
    {
     "data": {
      "image/png": "[encoded data removed]",
      "text/plain": [
       "<Figure size 432x288 with 2 Axes>"
      ]
     },
     "metadata": {
      "needs_background": "light"
     },
     "output_type": "display_data"
    },
    {
     "name": "stdout",
     "output_type": "stream",
     "text": [
      "Accuracy of the model on the Test dataset:64.8%\n",
      "               precision    recall  f1-score   support\n",
      "\n",
      "        apple     0.8632    0.8200    0.8410       100\n",
      "aquarium_fish     0.8778    0.7900    0.8316       100\n",
      "         baby     0.5545    0.5600    0.5572       100\n",
      "         bear     0.3586    0.5200    0.4245       100\n",
      "       beaver     0.3906    0.5000    0.4386       100\n",
      "          bed     0.7105    0.5400    0.6136       100\n",
      "          bee     0.7444    0.6700    0.7053       100\n",
      "       beetle     0.7053    0.6700    0.6872       100\n",
      "      bicycle     0.9011    0.8200    0.8586       100\n",
      "       bottle     0.7500    0.7500    0.7500       100\n",
      "         bowl     0.3839    0.4300    0.4057       100\n",
      "          boy     0.4312    0.4700    0.4498       100\n",
      "       bridge     0.6923    0.7200    0.7059       100\n",
      "          bus     0.6701    0.6500    0.6599       100\n",
      "    butterfly     0.5980    0.6100    0.6040       100\n",
      "        camel     0.6239    0.6800    0.6507       100\n",
      "          can     0.5603    0.6500    0.6019       100\n",
      "       castle     0.8660    0.8400    0.8528       100\n",
      "  caterpillar     0.5588    0.5700    0.5644       100\n",
      "       cattle     0.6064    0.5700    0.5876       100\n",
      "        chair     0.8211    0.7800    0.8000       100\n",
      "   chimpanzee     0.8242    0.7500    0.7853       100\n",
      "        clock     0.6923    0.6300    0.6597       100\n",
      "        cloud     0.7755    0.7600    0.7677       100\n",
      "    cockroach     0.8556    0.7700    0.8105       100\n",
      "        couch     0.4262    0.5200    0.4685       100\n",
      "         crab     0.6556    0.5900    0.6211       100\n",
      "    crocodile     0.5814    0.5000    0.5376       100\n",
      "          cup     0.8506    0.7400    0.7914       100\n",
      "     dinosaur     0.5169    0.6100    0.5596       100\n",
      "      dolphin     0.6421    0.6100    0.6256       100\n",
      "     elephant     0.7619    0.6400    0.6957       100\n",
      "     flatfish     0.4412    0.6000    0.5085       100\n",
      "       forest     0.5259    0.6100    0.5648       100\n",
      "          fox     0.6147    0.6700    0.6411       100\n",
      "         girl     0.4894    0.4600    0.4742       100\n",
      "      hamster     0.7300    0.7300    0.7300       100\n",
      "        house     0.6792    0.7200    0.6990       100\n",
      "     kangaroo     0.6500    0.5200    0.5778       100\n",
      "     keyboard     0.8000    0.7600    0.7795       100\n",
      "         lamp     0.5478    0.6300    0.5860       100\n",
      "   lawn_mower     0.9101    0.8100    0.8571       100\n",
      "      leopard     0.7294    0.6200    0.6703       100\n",
      "         lion     0.8256    0.7100    0.7634       100\n",
      "       lizard     0.3150    0.4000    0.3524       100\n",
      "      lobster     0.3821    0.4700    0.4215       100\n",
      "          man     0.4737    0.4500    0.4615       100\n",
      "   maple_tree     0.6277    0.5900    0.6082       100\n",
      "   motorcycle     0.8241    0.8900    0.8558       100\n",
      "     mountain     0.8000    0.7600    0.7795       100\n",
      "        mouse     0.4494    0.4000    0.4233       100\n",
      "     mushroom     0.6531    0.6400    0.6465       100\n",
      "     oak_tree     0.6306    0.7000    0.6635       100\n",
      "       orange     0.8056    0.8700    0.8365       100\n",
      "       orchid     0.7549    0.7700    0.7624       100\n",
      "        otter     0.3636    0.3200    0.3404       100\n",
      "    palm_tree     0.8842    0.8400    0.8615       100\n",
      "         pear     0.7553    0.7100    0.7320       100\n",
      " pickup_truck     0.8804    0.8100    0.8438       100\n",
      "    pine_tree     0.6020    0.5900    0.5960       100\n",
      "        plain     0.8247    0.8000    0.8122       100\n",
      "        plate     0.6593    0.6000    0.6283       100\n",
      "        poppy     0.7158    0.6800    0.6974       100\n",
      "    porcupine     0.6988    0.5800    0.6339       100\n",
      "       possum     0.5867    0.4400    0.5029       100\n",
      "       rabbit     0.2583    0.3900    0.3108       100\n",
      "      raccoon     0.7727    0.6800    0.7234       100\n",
      "          ray     0.6136    0.5400    0.5745       100\n",
      "         road     0.8911    0.9000    0.8955       100\n",
      "       rocket     0.7895    0.7500    0.7692       100\n",
      "         rose     0.7500    0.6600    0.7021       100\n",
      "          sea     0.8058    0.8300    0.8177       100\n",
      "         seal     0.2880    0.3600    0.3200       100\n",
      "        shark     0.4661    0.5500    0.5046       100\n",
      "        shrew     0.4592    0.4500    0.4545       100\n",
      "        skunk     0.8901    0.8100    0.8482       100\n",
      "   skyscraper     0.8500    0.8500    0.8500       100\n",
      "        snail     0.7260    0.5300    0.6127       100\n",
      "        snake     0.5043    0.5800    0.5395       100\n",
      "       spider     0.6481    0.7000    0.6731       100\n",
      "     squirrel     0.3440    0.4300    0.3822       100\n",
      "    streetcar     0.5820    0.7100    0.6396       100\n",
      "    sunflower     0.9278    0.9000    0.9137       100\n",
      " sweet_pepper     0.6237    0.5800    0.6010       100\n",
      "        table     0.6250    0.6000    0.6122       100\n",
      "         tank     0.7959    0.7800    0.7879       100\n",
      "    telephone     0.8000    0.6400    0.7111       100\n",
      "   television     0.7248    0.7900    0.7560       100\n",
      "        tiger     0.8111    0.7300    0.7684       100\n",
      "      tractor     0.7570    0.8100    0.7826       100\n",
      "        train     0.6422    0.7000    0.6699       100\n",
      "        trout     0.7604    0.7300    0.7449       100\n",
      "        tulip     0.5625    0.6300    0.5943       100\n",
      "       turtle     0.5056    0.4500    0.4762       100\n",
      "     wardrobe     0.8411    0.9000    0.8696       100\n",
      "        whale     0.7273    0.6400    0.6809       100\n",
      "  willow_tree     0.6353    0.5400    0.5838       100\n",
      "         wolf     0.7917    0.7600    0.7755       100\n",
      "        woman     0.4316    0.4100    0.4205       100\n",
      "         worm     0.6421    0.6100    0.6256       100\n",
      "\n",
      "     accuracy                         0.6480     10000\n",
      "    macro avg     0.6612    0.6480    0.6522     10000\n",
      " weighted avg     0.6612    0.6480    0.6522     10000\n",
      "\n"
     ]
    },
    {
     "data": {
      "text/plain": [
       "64.8"
      ]
     },
     "execution_count": 12,
     "metadata": {},
     "output_type": "execute_result"
    }
   ],
   "source": [
    "device = torch.device('cuda' if torch.cuda.is_available() else 'cpu')\n",
    "print(torch.cuda.is_available())\n",
    "#Create model\n",
    "model=VGG()\n",
    "#Number of training iterations\n",
    "num_epochs=150\n",
    "model.cuda()\n",
    "#Learning rate\n",
    "learning_rate=0.01\n",
    "# optimizer=torch.optim.Adam(model.parameters(),lr=0.0001)\n",
    "optimizer = torch.optim.SGD(model.parameters(),\n",
    "                lr=learning_rate,\n",
    "                momentum=0.9,\n",
    "                weight_decay=0.0001,\n",
    "                nesterov=True)\n",
    "\n",
    "#Set the learning rate drop rule.\n",
    "scheduler = torch.optim.lr_scheduler.MultiStepLR(optimizer, [60,120],gamma=0.1)\n",
    "#Set loss function\n",
    "criterion= nn.CrossEntropyLoss().cuda()\n",
    "train(model,num_epochs,train_loader,criterion,scheduler,optimizer,\"VGG19.h5\")\n",
    "eval(model, test_loader, \"Test\",True)\n"
   ]
  },
  {
   "cell_type": "markdown",
   "id": "eb2cb741",
   "metadata": {},
   "source": [
    "## 4.4 Train and test Resnet18"
   ]
  },
  {
   "cell_type": "code",
   "execution_count": 31,
   "id": "4f4435db",
   "metadata": {
    "scrolled": false
   },
   "outputs": [
    {
     "name": "stdout",
     "output_type": "stream",
     "text": [
      "True\n"
     ]
    },
    {
     "name": "stderr",
     "output_type": "stream",
     "text": [
      "100%|██████████| 150/150 [45:21<00:00, 18.14s/it]\n"
     ]
    },
    {
     "name": "stdout",
     "output_type": "stream",
     "text": [
      "Loss in train dataset0.11181989312171936\n",
      "Accuracy of the model on the Test dataset:72.29%\n"
     ]
    },
    {
     "data": {
      "image/png": "[encoded data removed]",
      "text/plain": [
       "<Figure size 432x288 with 2 Axes>"
      ]
     },
     "metadata": {
      "needs_background": "light"
     },
     "output_type": "display_data"
    },
    {
     "data": {
      "image/png": "[encoded data removed]",
      "text/plain": [
       "<Figure size 432x288 with 2 Axes>"
      ]
     },
     "metadata": {
      "needs_background": "light"
     },
     "output_type": "display_data"
    },
    {
     "name": "stdout",
     "output_type": "stream",
     "text": [
      "Accuracy of the model on the Test dataset:72.29%\n",
      "               precision    recall  f1-score   support\n",
      "\n",
      "        apple     0.8842    0.8400    0.8615       100\n",
      "aquarium_fish     0.9032    0.8400    0.8705       100\n",
      "         baby     0.6300    0.6300    0.6300       100\n",
      "         bear     0.5000    0.5300    0.5146       100\n",
      "       beaver     0.5439    0.6200    0.5794       100\n",
      "          bed     0.7523    0.8200    0.7847       100\n",
      "          bee     0.6814    0.7700    0.7230       100\n",
      "       beetle     0.7228    0.7300    0.7264       100\n",
      "      bicycle     0.8544    0.8800    0.8670       100\n",
      "       bottle     0.8000    0.8400    0.8195       100\n",
      "         bowl     0.5941    0.6000    0.5970       100\n",
      "          boy     0.4945    0.4500    0.4712       100\n",
      "       bridge     0.7905    0.8300    0.8098       100\n",
      "          bus     0.7065    0.6500    0.6771       100\n",
      "    butterfly     0.7071    0.7000    0.7035       100\n",
      "        camel     0.7374    0.7300    0.7337       100\n",
      "          can     0.7037    0.7600    0.7308       100\n",
      "       castle     0.8737    0.8300    0.8513       100\n",
      "  caterpillar     0.6404    0.5700    0.6032       100\n",
      "       cattle     0.6800    0.6800    0.6800       100\n",
      "        chair     0.8854    0.8500    0.8673       100\n",
      "   chimpanzee     0.8673    0.8500    0.8586       100\n",
      "        clock     0.7579    0.7200    0.7385       100\n",
      "        cloud     0.7778    0.8400    0.8077       100\n",
      "    cockroach     0.8764    0.7800    0.8254       100\n",
      "        couch     0.6517    0.5800    0.6138       100\n",
      "         crab     0.6957    0.6400    0.6667       100\n",
      "    crocodile     0.6458    0.6200    0.6327       100\n",
      "          cup     0.8125    0.7800    0.7959       100\n",
      "     dinosaur     0.7640    0.6800    0.7196       100\n",
      "      dolphin     0.6633    0.6500    0.6566       100\n",
      "     elephant     0.6792    0.7200    0.6990       100\n",
      "     flatfish     0.6923    0.6300    0.6597       100\n",
      "       forest     0.6852    0.7400    0.7115       100\n",
      "          fox     0.6818    0.7500    0.7143       100\n",
      "         girl     0.4590    0.5600    0.5045       100\n",
      "      hamster     0.8370    0.7700    0.8021       100\n",
      "        house     0.7547    0.8000    0.7767       100\n",
      "     kangaroo     0.6300    0.6300    0.6300       100\n",
      "     keyboard     0.8854    0.8500    0.8673       100\n",
      "         lamp     0.6700    0.6700    0.6700       100\n",
      "   lawn_mower     0.9072    0.8800    0.8934       100\n",
      "      leopard     0.7130    0.7700    0.7404       100\n",
      "         lion     0.8041    0.7800    0.7919       100\n",
      "       lizard     0.4800    0.4800    0.4800       100\n",
      "      lobster     0.5810    0.6100    0.5951       100\n",
      "          man     0.5484    0.5100    0.5285       100\n",
      "   maple_tree     0.6598    0.6400    0.6497       100\n",
      "   motorcycle     0.9038    0.9400    0.9216       100\n",
      "     mountain     0.7963    0.8600    0.8269       100\n",
      "        mouse     0.5096    0.5300    0.5196       100\n",
      "     mushroom     0.7500    0.7200    0.7347       100\n",
      "     oak_tree     0.6355    0.6800    0.6570       100\n",
      "       orange     0.8932    0.9200    0.9064       100\n",
      "       orchid     0.7522    0.8500    0.7981       100\n",
      "        otter     0.4390    0.5400    0.4843       100\n",
      "    palm_tree     0.8878    0.8700    0.8788       100\n",
      "         pear     0.7431    0.8100    0.7751       100\n",
      " pickup_truck     0.8788    0.8700    0.8744       100\n",
      "    pine_tree     0.7283    0.6700    0.6979       100\n",
      "        plain     0.8131    0.8700    0.8406       100\n",
      "        plate     0.7629    0.7400    0.7513       100\n",
      "        poppy     0.7429    0.7800    0.7610       100\n",
      "    porcupine     0.7320    0.7100    0.7208       100\n",
      "       possum     0.6386    0.5300    0.5792       100\n",
      "       rabbit     0.5766    0.6400    0.6066       100\n",
      "      raccoon     0.8021    0.7700    0.7857       100\n",
      "          ray     0.6020    0.5900    0.5960       100\n",
      "         road     0.8440    0.9200    0.8804       100\n",
      "       rocket     0.7835    0.7600    0.7716       100\n",
      "         rose     0.8333    0.7500    0.7895       100\n",
      "          sea     0.7327    0.7400    0.7363       100\n",
      "         seal     0.4035    0.4600    0.4299       100\n",
      "        shark     0.5370    0.5800    0.5577       100\n",
      "        shrew     0.5392    0.5500    0.5446       100\n",
      "        skunk     0.8447    0.8700    0.8571       100\n",
      "   skyscraper     0.8866    0.8600    0.8731       100\n",
      "        snail     0.7640    0.6800    0.7196       100\n",
      "        snake     0.6075    0.6500    0.6280       100\n",
      "       spider     0.7282    0.7500    0.7389       100\n",
      "     squirrel     0.7024    0.5900    0.6413       100\n",
      "    streetcar     0.7320    0.7100    0.7208       100\n",
      "    sunflower     0.9091    0.9000    0.9045       100\n",
      " sweet_pepper     0.6979    0.6700    0.6837       100\n",
      "        table     0.6923    0.6300    0.6597       100\n",
      "         tank     0.8350    0.8600    0.8473       100\n",
      "    telephone     0.8488    0.7300    0.7849       100\n",
      "   television     0.8081    0.8000    0.8040       100\n",
      "        tiger     0.8387    0.7800    0.8083       100\n",
      "      tractor     0.8000    0.8800    0.8381       100\n",
      "        train     0.7407    0.8000    0.7692       100\n",
      "        trout     0.8163    0.8000    0.8081       100\n",
      "        tulip     0.7128    0.6700    0.6907       100\n",
      "       turtle     0.6526    0.6200    0.6359       100\n",
      "     wardrobe     0.9216    0.9400    0.9307       100\n",
      "        whale     0.7075    0.7500    0.7282       100\n",
      "  willow_tree     0.6600    0.6600    0.6600       100\n",
      "         wolf     0.8554    0.7100    0.7760       100\n",
      "        woman     0.5413    0.5900    0.5646       100\n",
      "         worm     0.7765    0.6600    0.7135       100\n",
      "\n",
      "     accuracy                         0.7229     10000\n",
      "    macro avg     0.7261    0.7229    0.7234     10000\n",
      " weighted avg     0.7261    0.7229    0.7234     10000\n",
      "\n"
     ]
    },
    {
     "data": {
      "text/plain": [
       "72.29"
      ]
     },
     "execution_count": 31,
     "metadata": {},
     "output_type": "execute_result"
    }
   ],
   "source": [
    "device = torch.device('cuda' if torch.cuda.is_available() else 'cpu')\n",
    "print(torch.cuda.is_available())\n",
    "#Create model\n",
    "model=ResNet18(BuildingBlock)\n",
    "#Number of training iterations\n",
    "num_epochs=150\n",
    "model.cuda()\n",
    "#Learning rate\n",
    "learning_rate=0.01\n",
    "\n",
    "optimizer = torch.optim.SGD(model.parameters(),\n",
    "                lr=learning_rate,\n",
    "                momentum=0.9,\n",
    "                weight_decay=0.0001,\n",
    "                nesterov=True)\n",
    "\n",
    "#Set the learning rate drop rule.\n",
    "scheduler = torch.optim.lr_scheduler.MultiStepLR(optimizer, [60,120],gamma=0.1)\n",
    "#Set loss function\n",
    "criterion= nn.CrossEntropyLoss().cuda()\n",
    "train(model,num_epochs,train_loader,criterion,scheduler,optimizer,\"Resnet18.h5\")\n",
    "eval(model, test_loader, \"Test\",True)"
   ]
  },
  {
   "cell_type": "markdown",
   "id": "3404593f",
   "metadata": {},
   "source": [
    "## 4.5 Train and test DenseNet BC 100"
   ]
  },
  {
   "cell_type": "code",
   "execution_count": 32,
   "id": "a60d8f30",
   "metadata": {
    "scrolled": false
   },
   "outputs": [
    {
     "name": "stdout",
     "output_type": "stream",
     "text": [
      "True\n"
     ]
    },
    {
     "name": "stderr",
     "output_type": "stream",
     "text": [
      "100%|██████████| 150/150 [1:37:58<00:00, 39.19s/it]\n"
     ]
    },
    {
     "name": "stdout",
     "output_type": "stream",
     "text": [
      "Loss in train dataset0.13762874901294708\n",
      "Accuracy of the model on the Test dataset:68.08%\n"
     ]
    },
    {
     "data": {
      "image/png": "[encoded data removed]",
      "text/plain": [
       "<Figure size 432x288 with 2 Axes>"
      ]
     },
     "metadata": {
      "needs_background": "light"
     },
     "output_type": "display_data"
    },
    {
     "data": {
      "image/png": "[encoded data removed]",
      "text/plain": [
       "<Figure size 432x288 with 2 Axes>"
      ]
     },
     "metadata": {
      "needs_background": "light"
     },
     "output_type": "display_data"
    },
    {
     "name": "stdout",
     "output_type": "stream",
     "text": [
      "Accuracy of the model on the Test dataset:68.08%\n",
      "               precision    recall  f1-score   support\n",
      "\n",
      "        apple     0.9101    0.8100    0.8571       100\n",
      "aquarium_fish     0.7451    0.7600    0.7525       100\n",
      "         baby     0.5842    0.5900    0.5871       100\n",
      "         bear     0.4622    0.5500    0.5023       100\n",
      "       beaver     0.4787    0.4500    0.4639       100\n",
      "          bed     0.8000    0.6400    0.7111       100\n",
      "          bee     0.7273    0.7200    0.7236       100\n",
      "       beetle     0.6016    0.7400    0.6637       100\n",
      "      bicycle     0.8778    0.7900    0.8316       100\n",
      "       bottle     0.6667    0.8000    0.7273       100\n",
      "         bowl     0.5584    0.4300    0.4859       100\n",
      "          boy     0.4182    0.4600    0.4381       100\n",
      "       bridge     0.7600    0.7600    0.7600       100\n",
      "          bus     0.6458    0.6200    0.6327       100\n",
      "    butterfly     0.7073    0.5800    0.6374       100\n",
      "        camel     0.6705    0.5900    0.6277       100\n",
      "          can     0.7727    0.6800    0.7234       100\n",
      "       castle     0.9070    0.7800    0.8387       100\n",
      "  caterpillar     0.6000    0.6300    0.6146       100\n",
      "       cattle     0.6923    0.6300    0.6597       100\n",
      "        chair     0.8791    0.8000    0.8377       100\n",
      "   chimpanzee     0.7311    0.8700    0.7945       100\n",
      "        clock     0.6154    0.7200    0.6636       100\n",
      "        cloud     0.8077    0.8400    0.8235       100\n",
      "    cockroach     0.8387    0.7800    0.8083       100\n",
      "        couch     0.6395    0.5500    0.5914       100\n",
      "         crab     0.4880    0.6100    0.5422       100\n",
      "    crocodile     0.6216    0.4600    0.5287       100\n",
      "          cup     0.8061    0.7900    0.7980       100\n",
      "     dinosaur     0.6667    0.6000    0.6316       100\n",
      "      dolphin     0.5918    0.5800    0.5859       100\n",
      "     elephant     0.7586    0.6600    0.7059       100\n",
      "     flatfish     0.5333    0.6400    0.5818       100\n",
      "       forest     0.7391    0.6800    0.7083       100\n",
      "          fox     0.6803    0.8300    0.7477       100\n",
      "         girl     0.4356    0.4400    0.4378       100\n",
      "      hamster     0.8280    0.7700    0.7979       100\n",
      "        house     0.7156    0.7800    0.7464       100\n",
      "     kangaroo     0.6667    0.5400    0.5967       100\n",
      "     keyboard     0.8317    0.8400    0.8358       100\n",
      "         lamp     0.5588    0.5700    0.5644       100\n",
      "   lawn_mower     0.9425    0.8200    0.8770       100\n",
      "      leopard     0.8228    0.6500    0.7263       100\n",
      "         lion     0.8041    0.7800    0.7919       100\n",
      "       lizard     0.3689    0.4500    0.4054       100\n",
      "      lobster     0.5278    0.5700    0.5481       100\n",
      "          man     0.5362    0.3700    0.4379       100\n",
      "   maple_tree     0.6162    0.6100    0.6131       100\n",
      "   motorcycle     0.8900    0.8900    0.8900       100\n",
      "     mountain     0.7736    0.8200    0.7961       100\n",
      "        mouse     0.4504    0.5900    0.5108       100\n",
      "     mushroom     0.6228    0.7100    0.6636       100\n",
      "     oak_tree     0.5877    0.6700    0.6262       100\n",
      "       orange     0.8349    0.9100    0.8708       100\n",
      "       orchid     0.8173    0.8500    0.8333       100\n",
      "        otter     0.4037    0.4400    0.4211       100\n",
      "    palm_tree     0.8936    0.8400    0.8660       100\n",
      "         pear     0.6667    0.8200    0.7354       100\n",
      " pickup_truck     0.7706    0.8400    0.8038       100\n",
      "    pine_tree     0.6566    0.6500    0.6533       100\n",
      "        plain     0.8614    0.8700    0.8657       100\n",
      "        plate     0.7282    0.7500    0.7389       100\n",
      "        poppy     0.7614    0.6700    0.7128       100\n",
      "    porcupine     0.7342    0.5800    0.6480       100\n",
      "       possum     0.7083    0.5100    0.5930       100\n",
      "       rabbit     0.6711    0.5100    0.5795       100\n",
      "      raccoon     0.8021    0.7700    0.7857       100\n",
      "          ray     0.5400    0.5400    0.5400       100\n",
      "         road     0.8911    0.9000    0.8955       100\n",
      "       rocket     0.7941    0.8100    0.8020       100\n",
      "         rose     0.8228    0.6500    0.7263       100\n",
      "          sea     0.7660    0.7200    0.7423       100\n",
      "         seal     0.3793    0.4400    0.4074       100\n",
      "        shark     0.4796    0.4700    0.4747       100\n",
      "        shrew     0.3553    0.5400    0.4286       100\n",
      "        skunk     0.9195    0.8000    0.8556       100\n",
      "   skyscraper     0.8641    0.8900    0.8768       100\n",
      "        snail     0.7294    0.6200    0.6703       100\n",
      "        snake     0.4470    0.5900    0.5086       100\n",
      "       spider     0.6961    0.7100    0.7030       100\n",
      "     squirrel     0.5294    0.5400    0.5347       100\n",
      "    streetcar     0.7184    0.7400    0.7291       100\n",
      "    sunflower     0.9362    0.8800    0.9072       100\n",
      " sweet_pepper     0.7442    0.6400    0.6882       100\n",
      "        table     0.6311    0.6500    0.6404       100\n",
      "         tank     0.8295    0.7300    0.7766       100\n",
      "    telephone     0.7727    0.6800    0.7234       100\n",
      "   television     0.7979    0.7500    0.7732       100\n",
      "        tiger     0.8229    0.7900    0.8061       100\n",
      "      tractor     0.7732    0.7500    0.7614       100\n",
      "        train     0.7879    0.7800    0.7839       100\n",
      "        trout     0.5970    0.8000    0.6838       100\n",
      "        tulip     0.5984    0.7300    0.6577       100\n",
      "       turtle     0.6533    0.4900    0.5600       100\n",
      "     wardrobe     0.8598    0.9200    0.8889       100\n",
      "        whale     0.6869    0.6800    0.6834       100\n",
      "  willow_tree     0.6207    0.5400    0.5775       100\n",
      "         wolf     0.7701    0.6700    0.7166       100\n",
      "        woman     0.5086    0.5900    0.5463       100\n",
      "         worm     0.5319    0.7500    0.6224       100\n",
      "\n",
      "     accuracy                         0.6808     10000\n",
      "    macro avg     0.6913    0.6808    0.6825     10000\n",
      " weighted avg     0.6913    0.6808    0.6825     10000\n",
      "\n"
     ]
    },
    {
     "data": {
      "text/plain": [
       "68.08"
      ]
     },
     "execution_count": 32,
     "metadata": {},
     "output_type": "execute_result"
    }
   ],
   "source": [
    "device = torch.device('cuda' if torch.cuda.is_available() else 'cpu')\n",
    "print(torch.cuda.is_available())\n",
    "#Create model\n",
    "model=DenseNet(12,100,0.5)\n",
    "#Number of training iterations\n",
    "num_epochs=150\n",
    "#Load the model to the graphics card.\n",
    "model.cuda()\n",
    "#Learning rate\n",
    "learning_rate=0.01\n",
    "\n",
    "optimizer = torch.optim.SGD(model.parameters(),\n",
    "                lr=learning_rate,\n",
    "                momentum=0.9,\n",
    "                weight_decay=0.0001,\n",
    "                nesterov=True)\n",
    "\n",
    "#Set the learning rate drop rule.\n",
    "scheduler = torch.optim.lr_scheduler.MultiStepLR(optimizer,[60,120],gamma=0.1)\n",
    "#Set loss function\n",
    "criterion= nn.CrossEntropyLoss().cuda()\n",
    "train(model,num_epochs,train_loader,criterion,scheduler,optimizer,\"DenseNetBC100.h5\")\n",
    "eval(model, test_loader, \"Test\",True)"
   ]
  },
  {
   "cell_type": "code",
   "execution_count": null,
   "id": "68c9f36d",
   "metadata": {},
   "outputs": [],
   "source": []
  },
  {
   "cell_type": "code",
   "execution_count": null,
   "id": "e60ab5bb",
   "metadata": {},
   "outputs": [],
   "source": []
  }
 ],
 "metadata": {
  "kernelspec": {
   "display_name": "Python 3 (ipykernel)",
   "language": "python",
   "name": "python3"
  },
  "language_info": {
   "codemirror_mode": {
    "name": "ipython",
    "version": 3
   },
   "file_extension": ".py",
   "mimetype": "text/x-python",
   "name": "python",
   "nbconvert_exporter": "python",
   "pygments_lexer": "ipython3",
   "version": "3.8.12"
  }
 },
 "nbformat": 4,
 "nbformat_minor": 5
}
